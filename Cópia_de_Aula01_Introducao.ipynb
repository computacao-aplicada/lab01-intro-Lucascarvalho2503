{
  "cells": [
    {
      "cell_type": "markdown",
      "metadata": {
        "id": "view-in-github",
        "colab_type": "text"
      },
      "source": [
        "<a href=\"https://colab.research.google.com/github/computacao-aplicada/lab01-intro-Lucascarvalho2503/blob/main/C%C3%B3pia_de_Aula01_Introducao.ipynb\" target=\"_parent\"><img src=\"https://colab.research.google.com/assets/colab-badge.svg\" alt=\"Open In Colab\"/></a>"
      ]
    },
    {
      "cell_type": "markdown",
      "id": "50de5252",
      "metadata": {
        "id": "50de5252"
      },
      "source": [
        "# Aula 01: Introdução à Visão Computacional e Computação Gráfica\n",
        "\n",
        "### 🎯 Objetivos da Aula\n",
        "- Compreender o que é Visão Computacional.\n",
        "- Diferenciar Visão Computacional, Processamento de Imagens e Computação Gráfica.\n",
        "- Realizar manipulações simples com imagens.\n",
        "- Explorar conceitos de pixels, resoluções e canais de cor.\n"
      ]
    },
    {
      "cell_type": "markdown",
      "id": "53298967",
      "metadata": {
        "id": "53298967"
      },
      "source": [
        "## O que é Visão Computacional?\n",
        "\n",
        "A **Visão Computacional** é uma área da Inteligência Artificial que busca permitir que os computadores 'vejam' e interpretem o mundo visual, assim como os humanos.\n",
        "\n",
        "Ela utiliza imagens e vídeos como entrada e tenta extrair informações úteis, como:\n",
        "- Detecção de objetos\n",
        "- Reconhecimento facial\n",
        "- Segmentação de imagem\n",
        "- Rastreamento de movimento\n",
        "\n",
        "A **Computação Gráfica**, por outro lado, está mais voltada à geração de imagens — como renderizar cenas em 3D.\n",
        "\n",
        "Já o **Processamento de Imagens** se concentra na transformação e análise de imagens (normalmente 2D) para melhorar a qualidade ou extrair características.\n",
        "\n",
        "| Área                  | Foco                             |\n",
        "|-----------------------|----------------------------------|\n",
        "| Visão Computacional   | Entendimento e interpretação     |\n",
        "| Computação Gráfica    | Geração de imagens               |\n",
        "| Processamento de Imagens | Manipulação e melhoria de imagens |\n"
      ]
    },
    {
      "cell_type": "code",
      "execution_count": null,
      "id": "0e6620aa",
      "metadata": {
        "id": "0e6620aa"
      },
      "outputs": [],
      "source": [
        "# Importação das bibliotecas necessárias\n",
        "import numpy as np\n",
        "from PIL import Image\n",
        "import matplotlib.pyplot as plt\n",
        "\n",
        "# Exibir gráficos inline\n",
        "%matplotlib inline\n"
      ]
    },
    {
      "cell_type": "markdown",
      "id": "9291e421",
      "metadata": {
        "id": "9291e421"
      },
      "source": [
        "## Exemplo prático: Carregar e visualizar uma imagem"
      ]
    },
    {
      "cell_type": "code",
      "execution_count": null,
      "id": "f06b12a3",
      "metadata": {
        "id": "f06b12a3"
      },
      "outputs": [],
      "source": [
        "# Carregar imagem de exemplo\n",
        "from PIL import Image\n",
        "import requests\n",
        "\n",
        "url = \"https://images.unsplash.com/photo-1745810187217-4d9e1ccfd9d5?ixlib=rb-4.1.0&q=85&fm=jpg&crop=entropy&cs=srgb&w=640\"\n",
        "image = Image.open(requests.get(url, stream=True).raw)\n",
        "image = image.convert(\"RGB\")  # Garante 3 canais\n",
        "\n",
        "# Mostrar imagem\n",
        "plt.imshow(image)\n",
        "plt.title(\"Imagem Original\")\n",
        "plt.axis('off')\n",
        "plt.show()\n"
      ]
    },
    {
      "cell_type": "markdown",
      "id": "bedaa8c4",
      "metadata": {
        "id": "bedaa8c4"
      },
      "source": [
        "## Manipulação dos canais RGB"
      ]
    },
    {
      "cell_type": "code",
      "execution_count": null,
      "id": "420861b1",
      "metadata": {
        "id": "420861b1"
      },
      "outputs": [],
      "source": [
        "# Separar os canais\n",
        "r, g, b = image.split()\n",
        "\n",
        "# Exibir os canais\n",
        "fig, axs = plt.subplots(1, 3, figsize=(15, 5))\n",
        "for ax, channel, color in zip(axs, [r, g, b], ['R', 'G', 'B']):\n",
        "    ax.imshow(channel, cmap='gray')\n",
        "    ax.set_title(f'Canal {color}')\n",
        "    ax.axis('off')\n",
        "plt.tight_layout()\n",
        "plt.show()\n"
      ]
    },
    {
      "cell_type": "markdown",
      "id": "b337c14b",
      "metadata": {
        "id": "b337c14b"
      },
      "source": [
        "## Conversão para escala de cinza"
      ]
    },
    {
      "cell_type": "code",
      "execution_count": null,
      "id": "e3582ce8",
      "metadata": {
        "id": "e3582ce8"
      },
      "outputs": [],
      "source": [
        "# Converter para escala de cinza\n",
        "gray_image = image.convert(\"L\")\n",
        "\n",
        "# Mostrar imagem em tons de cinza\n",
        "plt.imshow(gray_image, cmap='gray')\n",
        "plt.title(\"Imagem em Escala de Cinza\")\n",
        "plt.axis('off')\n",
        "plt.show()\n"
      ]
    },
    {
      "cell_type": "markdown",
      "id": "4fd341dc",
      "metadata": {
        "id": "4fd341dc"
      },
      "source": [
        "## Explorando os pixels"
      ]
    },
    {
      "cell_type": "code",
      "execution_count": null,
      "id": "295f8351",
      "metadata": {
        "colab": {
          "base_uri": "https://localhost:8080/"
        },
        "id": "295f8351",
        "outputId": "320cf940-e4c7-4c5e-b9fb-66df2926d477"
      },
      "outputs": [
        {
          "output_type": "stream",
          "name": "stdout",
          "text": [
            "Formato da imagem: (400, 640, 3)\n",
            "Valor do pixel (0, 0): [114 109 115]\n"
          ]
        }
      ],
      "source": [
        "# Converter para numpy e mostrar valor de alguns pixels\n",
        "np_image = np.array(image)\n",
        "print(\"Formato da imagem:\", np_image.shape)\n",
        "print(\"Valor do pixel (0, 0):\", np_image[0, 0])\n"
      ]
    },
    {
      "cell_type": "markdown",
      "id": "e41754c1",
      "metadata": {
        "id": "e41754c1"
      },
      "source": [
        "## 🧠 Exercício\n",
        "\n",
        "Tente modificar o código acima para:\n",
        "\n",
        "- Exibir apenas o canal vermelho da imagem.\n",
        "- Modifique aleatoriamente o canal vermelho e gere a imagem novamente.\n",
        "- Criar uma imagem negativa (inverter as cores).\n",
        "- Salvar uma nova imagem modificada no disco.\n",
        "- Recorte um pedaço da imagem e salve em disco.\n",
        "\n",
        "---\n",
        "Cada um dos pontos do exercício deve ser uma célula separada!\n"
      ]
    }
  ],
  "metadata": {
    "colab": {
      "provenance": [],
      "include_colab_link": true
    },
    "language_info": {
      "name": "python"
    },
    "kernelspec": {
      "name": "python3",
      "display_name": "Python 3"
    }
  },
  "nbformat": 4,
  "nbformat_minor": 5
}